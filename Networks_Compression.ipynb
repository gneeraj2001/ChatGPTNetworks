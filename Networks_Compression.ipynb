{
  "nbformat": 4,
  "nbformat_minor": 0,
  "metadata": {
    "colab": {
      "provenance": []
    },
    "kernelspec": {
      "name": "python3",
      "display_name": "Python 3"
    },
    "language_info": {
      "name": "python"
    }
  },
  "cells": [
    {
      "cell_type": "code",
      "execution_count": null,
      "metadata": {
        "colab": {
          "base_uri": "https://localhost:8080/"
        },
        "id": "UCeEVvTuvTn3",
        "outputId": "2c43e51d-fe04-44b8-be57-808b1759cde7"
      },
      "outputs": [
        {
          "output_type": "stream",
          "name": "stdout",
          "text": [
            "Collecting pydub\n",
            "  Downloading pydub-0.25.1-py2.py3-none-any.whl (32 kB)\n",
            "Installing collected packages: pydub\n",
            "Successfully installed pydub-0.25.1\n"
          ]
        }
      ],
      "source": [
        "!pip install pydub"
      ]
    },
    {
      "cell_type": "code",
      "source": [
        "! add-apt-repository -y ppa:savoury1/ffmpeg4\n",
        "! apt-get -qq install -y ffmpeg\n"
      ],
      "metadata": {
        "colab": {
          "base_uri": "https://localhost:8080/"
        },
        "id": "tJ8OI82qvWN9",
        "outputId": "87668ec4-23fe-46c8-bbb6-7e992ab3106c"
      },
      "execution_count": null,
      "outputs": [
        {
          "output_type": "stream",
          "name": "stdout",
          "text": [
            "Repository: 'deb https://ppa.launchpadcontent.net/savoury1/ffmpeg4/ubuntu/ jammy main'\n",
            "Description:\n",
            "FFmpeg 4.4.4 builds (& associated multimedia packages) for Xenial & newer.\n",
            "\n",
            "*** Anyone interested in full builds of FFmpeg 4.4.x including all \"bells and whistles\" needs to have donated, after which access to the new private PPA can be requested. See my Launchpad page linked below for details. ***\n",
            "\n",
            "*** Please always see https://launchpad.net/~savoury1 for general updates about this Launchpad site before contacting me or reporting any bugs! ***\n",
            "\n",
            "*** Big thanks to all those who have donated to support this project, you are very directly helping to keep it alive! To all who have not donated: please do so if you can afford it, this project depends on donations. ***\n",
            "\n",
            "If software at this site is useful to you then please consider a donation:\n",
            "\n",
            "*** Donations: https://paypal.me/Savoury1 & https://ko-fi.com/Savoury1 ***\n",
            "*** Also https://patreon.com/Savoury1 & https://liberapay.com/Savoury1 ***\n",
            "\n",
            "Update (5 Apr 2023): FFmpeg 4.4 builds from today onwards are now generic, in that they are similar to current Ubuntu 22.04 Jammy FFmpeg builds. All of the dated updates below still apply to the FFmpeg 4.x builds available at a private \"subscriber only\" PPA (ppa:savoury1/ffmpeg) for supporters.\n",
            "\n",
            "Update (24 Jan 2023): FFmpeg 4.4 builds now have AMD AMF (Advanced Media Framework) support, using latest headers from AMF 1.4.29 (released today).\n",
            "\n",
            "Update (23 Oct 2022): FFmpeg 4.4 builds now have rav1e (new Rust-based AV1 encoder) support & are also built with nv-codec-headers 11.1.5.1 (latest).\n",
            "\n",
            "Update (6 Apr 2022): FFmpeg 4.4 builds now have Netflix VMAF support, with thanks to Frank B. (equal #1 patron of these PPAs) for suggesting/testing!\n",
            "\n",
            "Update (8 May 2021): FFmpeg 4.4 uploads from today onwards are built with these additional optional libraries: glslang (shader support), SVT-AV1 (scalable AV1 encoder), zimg (scaling, colorspace conversion, dithering), Vulkan (GPU acceleration on supported hardware), and SMB (Samba sharing).\n",
            "\n",
            "==========================================================================\n",
            "                   FFmpeg 4 - media tool (Xenial & newer)\n",
            "==========================================================================\n",
            "\n",
            "aom (3.7.0), aribb24 (1.0.3+git20160115), chafa (1.12.4), chromaprint (1.5.1), cjson (1.7.15), codec2 (1.2.0), cppzmq (4.9.0), dav1d (1.3.0), ffmpeg (4.4.4), ffms2 (2.23), flac (1.4.3), fluidsynth (2.3.4), fontconfig (2.13.1), freeglut (3.4.0), freetype (2.11.1), gnutls28 (3.7.3), gpac (2.0.0), gst-{libav,python}1.0 (1.22.{6,7} for gst*), gst-plugins-{bad,base,good,ugly}1.0, gstreamer{-vaapi,1.0}, harfbuzz (6.0.0), ilmbase (3.1.9 = imath), intel-gmmlib (22.3.12), intel-media{-driver,-driver-non-free} (23.2.4), intel-mediasdk (23.2.2), lensfun (0.3.3), libass (0.17.1), libbluray (1.3.4), libbs2b (3.1.0), libcamera (0.1.0), libcdio (2.1.0), libcdio-paranoia (10.2+2.0.1), libdeflate (1.18), libdvdnav (6.1.1), libdvdread (6.1.3), libevent (2.1.12-stable), libffado (2.4.7), libfreeaptx (0.1.1), libgcrypt20 (1.10.2), libgsm (1.0.22), libinstpatch (1.1.6), liblc3 (1.0.1), libldac (2.0.2.3+git20200429), libmysofa (1.3.1), libnice (0.1.21), libopenaptx (0.2.0), libopenmpt (0.7.3), libpng1.6 (1.6.40), librabbitmq (0.11.0), libsdl2 (2.28.4), libshout (2.4.6), libsodium (1.0.18+git20220815), libsrtp2 (2.5.0), libssh (0.10.5), libtasn1-6 (4.18.0), libudfread (1.1.2), libunistring (1.0), libunwind (1.3.2), libva{-utils} (2.19.0), libvpx (1.13.1), libwebm (1.0.0.31), libwebp (1.3.2), libxfixes (6.0.0), libyaml (0.2.5), libyuv (0.0.1857), mbedtls (2.28.5), mpg123 (1.32.3), nettle (3.7.3), norm (1.5.9), openal-soft (1.22.2), opencore-amr (0.1.6), openexr (3.2.1), openh264 (2.3.0), openjpeg2 (2.5.0), opus (1.4), orc (0.4.34), pipewire (0.3.85), pipewire-media-session (0.4.2), rubberband (3.1.2), snappy (1.1.10), sndio (1.9.0), soundtouch (2.3.2), speex{dsp} (1.2.1), srt (1.5.3), timgm6mb-soundfont, unbound (1.16.2), ust (2.13.4), vulkan-{headers,loader,tools} (1.3.268.0), wavpack (5.6.0), wireplumber (0.4.15), x264 (0.164.3153 = libx264-164), x265 (3.5 = libx265-199), zeromq3 (4.3.4), zimg (3.0.4), zvbi (0.2.41), zxing-cpp (2.1.0)\n",
            "\n",
            "Focal only: libdbl-perl (1.18 = libdeflate / renamed source for i386), libdecor-0 (0.1.0 for libsdl2 >= 2.0.20)\n",
            "\n",
            "Xenial & Bionic: alsa-{lib,plugins,tools,topology-conf,ucm-conf,utils} (1.2.2), alsa-oss (1.1.8), alsa-plugins-extra (1.1.0), alsaequal (0.6), fftw3 (3.3.8), fribidi (1.0.8), lcms2 (2.9), leptonlib (1.79.0), libgpg-error, libvidstab (1.1.0), p11-kit, tesseract (4.1.1), wayland-protocols (1.18), webrtc-audio-processing (0.3.1), wildmidi (0.4.3), zlib\n",
            "\n",
            "Xenial only: autogen, curl, gcc-7 (7.5.0), glib2.0 (2.56.4), gobject-introspection (1.56.1), json-glib (1.4.2), lame (3.100), libidn2, libpsl, lm-sensors (3.6.0), mesa (18.0.5 rebuild for newer Wayland), nghttp2, openssl, pysimplesoap, python-{boto,httplib2,imaplib2} (compat with newer openssl), readline (7.0), unbound, wayland (1.16.0)\n",
            "\n",
            "==========================================================================\n",
            "\n",
            "*** Install ***\n",
            "\n",
            "FFmpeg can be installed from this PPA alone, as the required packages to satisfy minimum versions have been copied here (notify me if any missing). However, if _all_ newest versions of graphics and multimedia packages are desired then two additional PPAs can be added before installing FFmpeg:\n",
            "\n",
            "  sudo add-apt-repository ppa:savoury1/graphics\n",
            "  sudo add-apt-repository ppa:savoury1/multimedia\n",
            "  sudo add-apt-repository ppa:savoury1/ffmpeg4\n",
            "  sudo apt-get update\n",
            "  sudo apt-get upgrade && sudo apt-get dist-upgrade\n",
            "  sudo apt-get install ffmpeg\n",
            "\n",
            "Notes: GStreamer 1.20.x packages are copied here (ppa:savoury1/multimedia) as FFmpeg and GStreamer must both be built against the Debian SRT package version with renamed libsrt1.5-gnutls or they cannot both be installed at the same time. GStreamer is on basically every Ubuntu-based system so this means it is necessary to upgrade GStreamer packages when upgrading FFmpeg.\n",
            "\n",
            "Also, PipeWire 0.3.x packages are copied here from the multimedia PPA due PipeWire now being commonly used by various software. As the FFmpeg 4 PPA is required by numerous PPAs at this Launchpad site it makes the latest PipeWire readily available to all users. PipeWire is built with ALSA 1.2.2 minimum (Focal, backported to Xenial & Bionic) which is then required to run, so base ALSA packages are now also copied here for Xenial & Bionic.\n",
            "\n",
            "* Xenial systems: As of FFmpeg 4.3 the installation requires GCC >= 7 as the Intel-MediaSDK is enabled, with libmfx1 requiring GCC >= 7 (package fails to build with GCC 5.4.0). So GCC 7.5.0 (ppa:savoury1/toolchain) for Xenial has been copied here, making it easier to install FFmpeg 4.x on Xenial (so adding this FFmpeg 4 PPA will bring a few GCC 7.5.0 upgrades).\n",
            "\n",
            "* Focal systems: Builds of FFmpeg are now also available for i386 whereas they were not available initially. Launchpad does not build most packages for i386 architecture for Focal and newer series (Launchpad only builds i386 packages on a whitelist managed by the Launchpad team) including for dav1d and pocketsphinx, so these features are not enabled for Focal i386.\n",
            "\n",
            "*** Build ***\n",
            "\n",
            "This PPA has build dependencies on:\n",
            "\n",
            "  ppa:savoury1/build-tools\n",
            "  ppa:savoury1/backports\n",
            "  ppa:savoury1/fonts\n",
            "  ppa:savoury1/graphics\n",
            "  ppa:savoury1/multimedia\n",
            "\n",
            "Additionally, for Xenial builds only:\n",
            "\n",
            "  ppa:savoury1/perl-xenial\n",
            "\n",
            "*** Credits ***\n",
            "\n",
            "- Creators of FFmpeg: Michael Niedermayer and the entire FFmpeg team\n",
            "  https://github.com/FFmpeg/FFmpeg/graphs/contributors\n",
            "\n",
            "- Package code: Debian Multimedia Maintainers\n",
            "  https://tracker.debian.org/pkg/ffmpeg\n",
            "More info: https://launchpad.net/~savoury1/+archive/ubuntu/ffmpeg4\n",
            "Adding repository.\n",
            "Adding deb entry to /etc/apt/sources.list.d/savoury1-ubuntu-ffmpeg4-jammy.list\n",
            "Adding disabled deb-src entry to /etc/apt/sources.list.d/savoury1-ubuntu-ffmpeg4-jammy.list\n",
            "Adding key to /etc/apt/trusted.gpg.d/savoury1-ubuntu-ffmpeg4.gpg with fingerprint E996735927E427A733BB653E374C7797FB006459\n",
            "Hit:1 http://archive.ubuntu.com/ubuntu jammy InRelease\n",
            "Get:2 http://archive.ubuntu.com/ubuntu jammy-updates InRelease [119 kB]\n",
            "Get:3 https://cloud.r-project.org/bin/linux/ubuntu jammy-cran40/ InRelease [3,626 B]\n",
            "Hit:4 https://developer.download.nvidia.com/compute/cuda/repos/ubuntu2204/x86_64  InRelease\n",
            "Get:5 http://security.ubuntu.com/ubuntu jammy-security InRelease [110 kB]\n",
            "Get:6 http://archive.ubuntu.com/ubuntu jammy-backports InRelease [109 kB]\n",
            "Get:7 http://archive.ubuntu.com/ubuntu jammy-updates/universe amd64 Packages [1,294 kB]\n",
            "Get:8 https://ppa.launchpadcontent.net/c2d4u.team/c2d4u4.0+/ubuntu jammy InRelease [18.1 kB]\n",
            "Hit:9 https://ppa.launchpadcontent.net/deadsnakes/ppa/ubuntu jammy InRelease\n",
            "Get:10 http://archive.ubuntu.com/ubuntu jammy-updates/main amd64 Packages [1,535 kB]\n",
            "Get:11 http://archive.ubuntu.com/ubuntu jammy-updates/restricted amd64 Packages [1,520 kB]\n",
            "Hit:12 https://ppa.launchpadcontent.net/graphics-drivers/ppa/ubuntu jammy InRelease\n",
            "Get:13 https://ppa.launchpadcontent.net/savoury1/ffmpeg4/ubuntu jammy InRelease [18.1 kB]\n",
            "Hit:14 https://ppa.launchpadcontent.net/ubuntugis/ppa/ubuntu jammy InRelease\n",
            "Get:15 https://ppa.launchpadcontent.net/c2d4u.team/c2d4u4.0+/ubuntu jammy/main Sources [2,245 kB]\n",
            "Get:16 https://ppa.launchpadcontent.net/c2d4u.team/c2d4u4.0+/ubuntu jammy/main amd64 Packages [1,153 kB]\n",
            "Get:17 https://ppa.launchpadcontent.net/savoury1/ffmpeg4/ubuntu jammy/main amd64 Packages [88.7 kB]\n",
            "Fetched 8,212 kB in 2s (4,441 kB/s)\n",
            "Reading package lists... Done\n",
            "(Reading database ... 120882 files and directories currently installed.)\n",
            "Preparing to unpack .../00-libavformat-dev_7%3a4.4.4-0ubuntu1~22.04.sav1.1_amd64.deb ...\n",
            "Unpacking libavformat-dev:amd64 (7:4.4.4-0ubuntu1~22.04.sav1.1) over (7:4.4.2-0ubuntu0.22.04.1) ...\n",
            "Preparing to unpack .../01-libavcodec-dev_7%3a4.4.4-0ubuntu1~22.04.sav1.1_amd64.deb ...\n",
            "Unpacking libavcodec-dev:amd64 (7:4.4.4-0ubuntu1~22.04.sav1.1) over (7:4.4.2-0ubuntu0.22.04.1) ...\n",
            "Preparing to unpack .../02-libswresample-dev_7%3a4.4.4-0ubuntu1~22.04.sav1.1_amd64.deb ...\n",
            "Unpacking libswresample-dev:amd64 (7:4.4.4-0ubuntu1~22.04.sav1.1) over (7:4.4.2-0ubuntu0.22.04.1) ...\n",
            "Preparing to unpack .../03-ffmpeg_7%3a4.4.4-0ubuntu1~22.04.sav1.1_amd64.deb ...\n",
            "Unpacking ffmpeg (7:4.4.4-0ubuntu1~22.04.sav1.1) over (7:4.4.2-0ubuntu0.22.04.1) ...\n",
            "Preparing to unpack .../04-libavdevice58_7%3a4.4.4-0ubuntu1~22.04.sav1.1_amd64.deb ...\n",
            "Unpacking libavdevice58:amd64 (7:4.4.4-0ubuntu1~22.04.sav1.1) over (7:4.4.2-0ubuntu0.22.04.1) ...\n",
            "Preparing to unpack .../05-libavfilter7_7%3a4.4.4-0ubuntu1~22.04.sav1.1_amd64.deb ...\n",
            "Unpacking libavfilter7:amd64 (7:4.4.4-0ubuntu1~22.04.sav1.1) over (7:4.4.2-0ubuntu0.22.04.1) ...\n",
            "Preparing to unpack .../06-libavformat58_7%3a4.4.4-0ubuntu1~22.04.sav1.1_amd64.deb ...\n",
            "Unpacking libavformat58:amd64 (7:4.4.4-0ubuntu1~22.04.sav1.1) over (7:4.4.2-0ubuntu0.22.04.1) ...\n",
            "Preparing to unpack .../07-libavcodec58_7%3a4.4.4-0ubuntu1~22.04.sav1.1_amd64.deb ...\n",
            "Unpacking libavcodec58:amd64 (7:4.4.4-0ubuntu1~22.04.sav1.1) over (7:4.4.2-0ubuntu0.22.04.1) ...\n",
            "Preparing to unpack .../08-libswresample3_7%3a4.4.4-0ubuntu1~22.04.sav1.1_amd64.deb ...\n",
            "Unpacking libswresample3:amd64 (7:4.4.4-0ubuntu1~22.04.sav1.1) over (7:4.4.2-0ubuntu0.22.04.1) ...\n",
            "Preparing to unpack .../09-libpostproc55_7%3a4.4.4-0ubuntu1~22.04.sav1.1_amd64.deb ...\n",
            "Unpacking libpostproc55:amd64 (7:4.4.4-0ubuntu1~22.04.sav1.1) over (7:4.4.2-0ubuntu0.22.04.1) ...\n",
            "Preparing to unpack .../10-libswscale-dev_7%3a4.4.4-0ubuntu1~22.04.sav1.1_amd64.deb ...\n",
            "Unpacking libswscale-dev:amd64 (7:4.4.4-0ubuntu1~22.04.sav1.1) over (7:4.4.2-0ubuntu0.22.04.1) ...\n",
            "Preparing to unpack .../11-libswscale5_7%3a4.4.4-0ubuntu1~22.04.sav1.1_amd64.deb ...\n",
            "Unpacking libswscale5:amd64 (7:4.4.4-0ubuntu1~22.04.sav1.1) over (7:4.4.2-0ubuntu0.22.04.1) ...\n",
            "Preparing to unpack .../12-libavutil-dev_7%3a4.4.4-0ubuntu1~22.04.sav1.1_amd64.deb ...\n",
            "Unpacking libavutil-dev:amd64 (7:4.4.4-0ubuntu1~22.04.sav1.1) over (7:4.4.2-0ubuntu0.22.04.1) ...\n",
            "Preparing to unpack .../13-libavutil56_7%3a4.4.4-0ubuntu1~22.04.sav1.1_amd64.deb ...\n",
            "Unpacking libavutil56:amd64 (7:4.4.4-0ubuntu1~22.04.sav1.1) over (7:4.4.2-0ubuntu0.22.04.1) ...\n",
            "Preparing to unpack .../14-libsndio7.0_1.9.0-0.3~22.04.sav0_amd64.deb ...\n",
            "Unpacking libsndio7.0:amd64 (1.9.0-0.3~22.04.sav0) over (1.8.1-1.1) ...\n",
            "Selecting previously unselected package libsndio7:amd64.\n",
            "Preparing to unpack .../15-libsndio7_1.9.0-0.3~22.04.sav0_amd64.deb ...\n",
            "Unpacking libsndio7:amd64 (1.9.0-0.3~22.04.sav0) ...\n",
            "Selecting previously unselected package libfftw3-double3:amd64.\n",
            "Preparing to unpack .../16-libfftw3-double3_3.3.8-2ubuntu8_amd64.deb ...\n",
            "Unpacking libfftw3-double3:amd64 (3.3.8-2ubuntu8) ...\n",
            "Preparing to unpack .../17-librubberband2_3.3.0+dfsg-1~22.04.sav0_amd64.deb ...\n",
            "Unpacking librubberband2:amd64 (3.3.0+dfsg-1~22.04.sav0) over (2.0.0-2) ...\n",
            "Selecting previously unselected package libsrt1.5-gnutls:amd64.\n",
            "Preparing to unpack .../18-libsrt1.5-gnutls_1.5.3-0ubuntu1~22.04.sav0_amd64.deb ...\n",
            "Unpacking libsrt1.5-gnutls:amd64 (1.5.3-0ubuntu1~22.04.sav0) ...\n",
            "Selecting previously unselected package libcodec2-1.2:amd64.\n",
            "Preparing to unpack .../19-libcodec2-1.2_1.2.0-2~22.04.sav0_amd64.deb ...\n",
            "Unpacking libcodec2-1.2:amd64 (1.2.0-2~22.04.sav0) ...\n",
            "Preparing to unpack .../20-libsnappy1v5_1.1.10-1~22.04.sav0_amd64.deb ...\n",
            "Unpacking libsnappy1v5:amd64 (1.1.10-1~22.04.sav0) over (1.1.8-1build3) ...\n",
            "Selecting previously unselected package libvpx8:amd64.\n",
            "Preparing to unpack .../21-libvpx8_1.13.1-2~22.04.sav1_amd64.deb ...\n",
            "Unpacking libvpx8:amd64 (1.13.1-2~22.04.sav1) ...\n",
            "Preparing to unpack .../22-libwebp-dev_1.3.2-0.3~22.04.sav0_amd64.deb ...\n",
            "Unpacking libwebp-dev:amd64 (1.3.2-0.3~22.04.sav0) over (1.2.2-2ubuntu0.22.04.2) ...\n",
            "Preparing to unpack .../23-libwebpdemux2_1.3.2-0.3~22.04.sav0_amd64.deb ...\n",
            "Unpacking libwebpdemux2:amd64 (1.3.2-0.3~22.04.sav0) over (1.2.2-2ubuntu0.22.04.2) ...\n",
            "Preparing to unpack .../24-libwebpmux3_1.3.2-0.3~22.04.sav0_amd64.deb ...\n",
            "Unpacking libwebpmux3:amd64 (1.3.2-0.3~22.04.sav0) over (1.2.2-2ubuntu0.22.04.2) ...\n",
            "Selecting previously unselected package libwebpdecoder3:amd64.\n",
            "Preparing to unpack .../25-libwebpdecoder3_1.3.2-0.3~22.04.sav0_amd64.deb ...\n",
            "Unpacking libwebpdecoder3:amd64 (1.3.2-0.3~22.04.sav0) ...\n",
            "Selecting previously unselected package libsharpyuv0:amd64.\n",
            "Preparing to unpack .../26-libsharpyuv0_1.3.2-0.3~22.04.sav0_amd64.deb ...\n",
            "Unpacking libsharpyuv0:amd64 (1.3.2-0.3~22.04.sav0) ...\n",
            "Selecting previously unselected package libsharpyuv-dev:amd64.\n",
            "Preparing to unpack .../27-libsharpyuv-dev_1.3.2-0.3~22.04.sav0_amd64.deb ...\n",
            "Unpacking libsharpyuv-dev:amd64 (1.3.2-0.3~22.04.sav0) ...\n",
            "Preparing to unpack .../28-libwebp7_1.3.2-0.3~22.04.sav0_amd64.deb ...\n",
            "Unpacking libwebp7:amd64 (1.3.2-0.3~22.04.sav0) over (1.2.2-2ubuntu0.22.04.2) ...\n",
            "Selecting previously unselected package libx264-164:amd64.\n",
            "Preparing to unpack .../29-libx264-164_2%3a0.164.3153+git5f84d40-0ubuntu1~22.04.sav0_amd64.deb ...\n",
            "Unpacking libx264-164:amd64 (2:0.164.3153+git5f84d40-0ubuntu1~22.04.sav0) ...\n",
            "Setting up libsharpyuv0:amd64 (1.3.2-0.3~22.04.sav0) ...\n",
            "Setting up libx264-164:amd64 (2:0.164.3153+git5f84d40-0ubuntu1~22.04.sav0) ...\n",
            "Setting up libcodec2-1.2:amd64 (1.2.0-2~22.04.sav0) ...\n",
            "Setting up libwebpdecoder3:amd64 (1.3.2-0.3~22.04.sav0) ...\n",
            "Setting up libavutil56:amd64 (7:4.4.4-0ubuntu1~22.04.sav1.1) ...\n",
            "Setting up libsnappy1v5:amd64 (1.1.10-1~22.04.sav0) ...\n",
            "Setting up libpostproc55:amd64 (7:4.4.4-0ubuntu1~22.04.sav1.1) ...\n",
            "Setting up libvpx8:amd64 (1.13.1-2~22.04.sav1) ...\n",
            "Setting up libfftw3-double3:amd64 (3.3.8-2ubuntu8) ...\n",
            "Setting up libwebp7:amd64 (1.3.2-0.3~22.04.sav0) ...\n",
            "Setting up librubberband2:amd64 (3.3.0+dfsg-1~22.04.sav0) ...\n",
            "Setting up libsrt1.5-gnutls:amd64 (1.5.3-0ubuntu1~22.04.sav0) ...\n",
            "Setting up libswscale5:amd64 (7:4.4.4-0ubuntu1~22.04.sav1.1) ...\n",
            "Setting up libsndio7:amd64 (1.9.0-0.3~22.04.sav0) ...\n",
            "Setting up libsharpyuv-dev:amd64 (1.3.2-0.3~22.04.sav0) ...\n",
            "Setting up libwebpmux3:amd64 (1.3.2-0.3~22.04.sav0) ...\n",
            "Setting up libavutil-dev:amd64 (7:4.4.4-0ubuntu1~22.04.sav1.1) ...\n",
            "Setting up libwebpdemux2:amd64 (1.3.2-0.3~22.04.sav0) ...\n",
            "Setting up libswresample3:amd64 (7:4.4.4-0ubuntu1~22.04.sav1.1) ...\n",
            "Setting up libwebp-dev:amd64 (1.3.2-0.3~22.04.sav0) ...\n",
            "Setting up libswscale-dev:amd64 (7:4.4.4-0ubuntu1~22.04.sav1.1) ...\n",
            "Setting up libsndio7.0:amd64 (1.9.0-0.3~22.04.sav0) ...\n",
            "Setting up libavcodec58:amd64 (7:4.4.4-0ubuntu1~22.04.sav1.1) ...\n",
            "Setting up libswresample-dev:amd64 (7:4.4.4-0ubuntu1~22.04.sav1.1) ...\n",
            "Setting up libavformat58:amd64 (7:4.4.4-0ubuntu1~22.04.sav1.1) ...\n",
            "Setting up libavcodec-dev:amd64 (7:4.4.4-0ubuntu1~22.04.sav1.1) ...\n",
            "Setting up libavformat-dev:amd64 (7:4.4.4-0ubuntu1~22.04.sav1.1) ...\n",
            "Setting up libavfilter7:amd64 (7:4.4.4-0ubuntu1~22.04.sav1.1) ...\n",
            "Setting up libavdevice58:amd64 (7:4.4.4-0ubuntu1~22.04.sav1.1) ...\n",
            "Setting up ffmpeg (7:4.4.4-0ubuntu1~22.04.sav1.1) ...\n",
            "Processing triggers for man-db (2.10.2-1) ...\n",
            "Processing triggers for libc-bin (2.35-0ubuntu3.4) ...\n",
            "/sbin/ldconfig.real: /usr/local/lib/libtbbbind.so.3 is not a symbolic link\n",
            "\n",
            "/sbin/ldconfig.real: /usr/local/lib/libtbbbind_2_5.so.3 is not a symbolic link\n",
            "\n",
            "/sbin/ldconfig.real: /usr/local/lib/libtbbmalloc_proxy.so.2 is not a symbolic link\n",
            "\n",
            "/sbin/ldconfig.real: /usr/local/lib/libtbbmalloc.so.2 is not a symbolic link\n",
            "\n",
            "/sbin/ldconfig.real: /usr/local/lib/libtbbbind_2_0.so.3 is not a symbolic link\n",
            "\n",
            "/sbin/ldconfig.real: /usr/local/lib/libtbb.so.12 is not a symbolic link\n",
            "\n"
          ]
        }
      ]
    },
    {
      "cell_type": "code",
      "source": [
        "!pip install gtts"
      ],
      "metadata": {
        "colab": {
          "base_uri": "https://localhost:8080/"
        },
        "id": "76XcjfmBzUq0",
        "outputId": "4e481a22-e920-4ce6-b026-da366f42e68e"
      },
      "execution_count": null,
      "outputs": [
        {
          "output_type": "stream",
          "name": "stdout",
          "text": [
            "Collecting gtts\n",
            "  Downloading gTTS-2.4.0-py3-none-any.whl (29 kB)\n",
            "Requirement already satisfied: requests<3,>=2.27 in /usr/local/lib/python3.10/dist-packages (from gtts) (2.31.0)\n",
            "Requirement already satisfied: click<8.2,>=7.1 in /usr/local/lib/python3.10/dist-packages (from gtts) (8.1.7)\n",
            "Requirement already satisfied: charset-normalizer<4,>=2 in /usr/local/lib/python3.10/dist-packages (from requests<3,>=2.27->gtts) (3.3.2)\n",
            "Requirement already satisfied: idna<4,>=2.5 in /usr/local/lib/python3.10/dist-packages (from requests<3,>=2.27->gtts) (3.6)\n",
            "Requirement already satisfied: urllib3<3,>=1.21.1 in /usr/local/lib/python3.10/dist-packages (from requests<3,>=2.27->gtts) (2.0.7)\n",
            "Requirement already satisfied: certifi>=2017.4.17 in /usr/local/lib/python3.10/dist-packages (from requests<3,>=2.27->gtts) (2023.11.17)\n",
            "Installing collected packages: gtts\n",
            "Successfully installed gtts-2.4.0\n"
          ]
        }
      ]
    },
    {
      "cell_type": "code",
      "source": [
        "!pip install git+https://github.com/openai/whisper.git"
      ],
      "metadata": {
        "colab": {
          "base_uri": "https://localhost:8080/"
        },
        "id": "jvcfW2AP0Nmm",
        "outputId": "39a68fed-b03a-4815-bedc-93c86edea99c"
      },
      "execution_count": null,
      "outputs": [
        {
          "output_type": "stream",
          "name": "stdout",
          "text": [
            "Collecting git+https://github.com/openai/whisper.git\n",
            "  Cloning https://github.com/openai/whisper.git to /tmp/pip-req-build-bcxkowps\n",
            "  Running command git clone --filter=blob:none --quiet https://github.com/openai/whisper.git /tmp/pip-req-build-bcxkowps\n",
            "  Resolved https://github.com/openai/whisper.git to commit e58f28804528831904c3b6f2c0e473f346223433\n",
            "  Installing build dependencies ... \u001b[?25l\u001b[?25hdone\n",
            "  Getting requirements to build wheel ... \u001b[?25l\u001b[?25hdone\n",
            "  Preparing metadata (pyproject.toml) ... \u001b[?25l\u001b[?25hdone\n",
            "Requirement already satisfied: triton<3,>=2.0.0 in /usr/local/lib/python3.10/dist-packages (from openai-whisper==20231117) (2.1.0)\n",
            "Requirement already satisfied: numba in /usr/local/lib/python3.10/dist-packages (from openai-whisper==20231117) (0.58.1)\n",
            "Requirement already satisfied: numpy in /usr/local/lib/python3.10/dist-packages (from openai-whisper==20231117) (1.23.5)\n",
            "Requirement already satisfied: torch in /usr/local/lib/python3.10/dist-packages (from openai-whisper==20231117) (2.1.0+cu118)\n",
            "Requirement already satisfied: tqdm in /usr/local/lib/python3.10/dist-packages (from openai-whisper==20231117) (4.66.1)\n",
            "Requirement already satisfied: more-itertools in /usr/local/lib/python3.10/dist-packages (from openai-whisper==20231117) (10.1.0)\n",
            "Collecting tiktoken (from openai-whisper==20231117)\n",
            "  Downloading tiktoken-0.5.1-cp310-cp310-manylinux_2_17_x86_64.manylinux2014_x86_64.whl (2.0 MB)\n",
            "\u001b[2K     \u001b[90m━━━━━━━━━━━━━━━━━━━━━━━━━━━━━━━━━━━━━━━━\u001b[0m \u001b[32m2.0/2.0 MB\u001b[0m \u001b[31m19.5 MB/s\u001b[0m eta \u001b[36m0:00:00\u001b[0m\n",
            "\u001b[?25hRequirement already satisfied: filelock in /usr/local/lib/python3.10/dist-packages (from triton<3,>=2.0.0->openai-whisper==20231117) (3.13.1)\n",
            "Requirement already satisfied: llvmlite<0.42,>=0.41.0dev0 in /usr/local/lib/python3.10/dist-packages (from numba->openai-whisper==20231117) (0.41.1)\n",
            "Requirement already satisfied: regex>=2022.1.18 in /usr/local/lib/python3.10/dist-packages (from tiktoken->openai-whisper==20231117) (2023.6.3)\n",
            "Requirement already satisfied: requests>=2.26.0 in /usr/local/lib/python3.10/dist-packages (from tiktoken->openai-whisper==20231117) (2.31.0)\n",
            "Requirement already satisfied: typing-extensions in /usr/local/lib/python3.10/dist-packages (from torch->openai-whisper==20231117) (4.5.0)\n",
            "Requirement already satisfied: sympy in /usr/local/lib/python3.10/dist-packages (from torch->openai-whisper==20231117) (1.12)\n",
            "Requirement already satisfied: networkx in /usr/local/lib/python3.10/dist-packages (from torch->openai-whisper==20231117) (3.2.1)\n",
            "Requirement already satisfied: jinja2 in /usr/local/lib/python3.10/dist-packages (from torch->openai-whisper==20231117) (3.1.2)\n",
            "Requirement already satisfied: fsspec in /usr/local/lib/python3.10/dist-packages (from torch->openai-whisper==20231117) (2023.6.0)\n",
            "Requirement already satisfied: charset-normalizer<4,>=2 in /usr/local/lib/python3.10/dist-packages (from requests>=2.26.0->tiktoken->openai-whisper==20231117) (3.3.2)\n",
            "Requirement already satisfied: idna<4,>=2.5 in /usr/local/lib/python3.10/dist-packages (from requests>=2.26.0->tiktoken->openai-whisper==20231117) (3.6)\n",
            "Requirement already satisfied: urllib3<3,>=1.21.1 in /usr/local/lib/python3.10/dist-packages (from requests>=2.26.0->tiktoken->openai-whisper==20231117) (2.0.7)\n",
            "Requirement already satisfied: certifi>=2017.4.17 in /usr/local/lib/python3.10/dist-packages (from requests>=2.26.0->tiktoken->openai-whisper==20231117) (2023.11.17)\n",
            "Requirement already satisfied: MarkupSafe>=2.0 in /usr/local/lib/python3.10/dist-packages (from jinja2->torch->openai-whisper==20231117) (2.1.3)\n",
            "Requirement already satisfied: mpmath>=0.19 in /usr/local/lib/python3.10/dist-packages (from sympy->torch->openai-whisper==20231117) (1.3.0)\n",
            "Building wheels for collected packages: openai-whisper\n",
            "  Building wheel for openai-whisper (pyproject.toml) ... \u001b[?25l\u001b[?25hdone\n",
            "  Created wheel for openai-whisper: filename=openai_whisper-20231117-py3-none-any.whl size=801356 sha256=3b666b908b35ee856d5d928deb99051906da79d994509c78c1ebd03f21fe18ac\n",
            "  Stored in directory: /tmp/pip-ephem-wheel-cache-70se7ewh/wheels/8b/6c/d0/622666868c179f156cf595c8b6f06f88bc5d80c4b31dccaa03\n",
            "Successfully built openai-whisper\n",
            "Installing collected packages: tiktoken, openai-whisper\n",
            "\u001b[31mERROR: pip's dependency resolver does not currently take into account all the packages that are installed. This behaviour is the source of the following dependency conflicts.\n",
            "llmx 0.0.15a0 requires cohere, which is not installed.\n",
            "llmx 0.0.15a0 requires openai, which is not installed.\u001b[0m\u001b[31m\n",
            "\u001b[0mSuccessfully installed openai-whisper-20231117 tiktoken-0.5.1\n"
          ]
        }
      ]
    },
    {
      "cell_type": "markdown",
      "source": [
        "COMPRESSION"
      ],
      "metadata": {
        "id": "Wgt7z8royC-j"
      }
    },
    {
      "cell_type": "code",
      "source": [
        "from IPython.display import Audio, display\n",
        "import os\n",
        "from pydub import AudioSegment\n",
        "\n",
        "display(Audio('hard.wav'))"
      ],
      "metadata": {
        "colab": {
          "base_uri": "https://localhost:8080/",
          "height": 75
        },
        "id": "U7MOXhRSwgQA",
        "outputId": "287cfed5-5b3f-4863-f97e-4af3d9313858"
      },
      "execution_count": null,
      "outputs": []
    },
    {
      "cell_type": "code",
      "source": [
        "\n",
        "\n",
        "def compress_to_opus(input_file, output_file):\n",
        "    # Load the audio file\n",
        "    audio = AudioSegment.from_file(input_file)\n",
        "\n",
        "    # Export the audio to Opus\n",
        "    audio.export(output_file, format='opus')\n",
        "\n",
        "# Compress an audio file before sending it to the server\n",
        "compress_to_opus(\"hard.wav\", \"compressed.opus\")\n",
        "\n"
      ],
      "metadata": {
        "id": "fR9URi8rvrtL"
      },
      "execution_count": null,
      "outputs": []
    },
    {
      "cell_type": "code",
      "source": [
        "def decompress_from_opus(input_file, output_file):\n",
        "    # Load the compressed Opus audio file\n",
        "    audio = AudioSegment.from_file(input_file)\n",
        "\n",
        "    # Export the audio to a decompressed format\n",
        "    audio.export(output_file, format='wav')\n",
        "\n",
        "# Decompress the received Opus audio file for processing\n",
        "decompress_from_opus(\"compressed.opus\", \"decompressed.wav\")\n"
      ],
      "metadata": {
        "id": "Z7_UQfSsvv-c"
      },
      "execution_count": null,
      "outputs": []
    },
    {
      "cell_type": "code",
      "source": [
        "from IPython.display import Audio, display\n",
        "\n",
        "display(Audio('decompressed.wav', autoplay=True))"
      ],
      "metadata": {
        "colab": {
          "base_uri": "https://localhost:8080/",
          "height": 75
        },
        "id": "FxcferWtwrw9",
        "outputId": "dd1d2bcd-926d-4ad1-c9e5-22c1095c796a"
      },
      "execution_count": null,
      "outputs": []
    },
    {
      "cell_type": "code",
      "source": [
        "def get_file_size(file_path):\n",
        "    # Get the size of the file in bytes\n",
        "    size = os.path.getsize(file_path)\n",
        "\n",
        "    # Convert size to more readable format (e.g., KB, MB)\n",
        "    size_kb = size / 1024  # Size in kilobytes\n",
        "    size_mb = size_kb / 1024  # Size in megabytes\n",
        "\n",
        "    return size, size_kb, size_mb\n",
        "\n",
        "\n",
        "size_bytes, size_kb, size_mb = get_file_size('hard.wav')\n",
        "print(f\"File Size (Original Audio File): {size_bytes} bytes, {size_kb:.2f} KB, {size_mb:.2f} MB\")\n",
        "\n",
        "size_bytes, size_kb, size_mb = get_file_size('compressed.opus')\n",
        "\n",
        "print(f\"File Size (Original Audio File): {size_bytes} bytes, {size_kb:.2f} KB, {size_mb:.2f} MB\")\n"
      ],
      "metadata": {
        "colab": {
          "base_uri": "https://localhost:8080/"
        },
        "id": "w2fYyZomxbHQ",
        "outputId": "4bb7c12e-688f-423c-b448-a10b1212c72e"
      },
      "execution_count": null,
      "outputs": [
        {
          "output_type": "stream",
          "name": "stdout",
          "text": [
            "File Size (Original Audio File): 13275946 bytes, 12964.79 KB, 12.66 MB\n",
            "File Size (Original Audio File): 584311 bytes, 570.62 KB, 0.56 MB\n"
          ]
        }
      ]
    },
    {
      "cell_type": "markdown",
      "source": [
        "TTS"
      ],
      "metadata": {
        "id": "1_p1uLWWyKPo"
      }
    },
    {
      "cell_type": "code",
      "source": [
        "from gtts import gTTS\n",
        "import os\n",
        "\n",
        "def text_to_speech(text, lang='en'):\n",
        "    tts = gTTS(text=text, lang=lang)\n",
        "    tts.save(\"output.wav\")\n",
        "    os.system(\"start output.mp3\")\n",
        "\n",
        "# Example usage\n",
        "text_to_speech(\"Hello, how can I help you today?\")\n"
      ],
      "metadata": {
        "id": "PI8hvYHBw7kk"
      },
      "execution_count": null,
      "outputs": []
    },
    {
      "cell_type": "code",
      "source": [
        "from IPython.display import Audio, display\n",
        "\n",
        "display(Audio('output.wav', autoplay=True))"
      ],
      "metadata": {
        "colab": {
          "base_uri": "https://localhost:8080/",
          "height": 75
        },
        "id": "cGga5-Y4zs7c",
        "outputId": "444cb166-06e6-409c-8d10-d42ef5cf82bb"
      },
      "execution_count": null,
      "outputs": [
        {
          "output_type": "display_data",
          "data": {
            "text/plain": [
              "<IPython.lib.display.Audio object>"
            ],
            "text/html": [
              "\n",
              "                <audio  controls=\"controls\" autoplay=\"autoplay\">\n",
              "                    <source src=\"data:audio/x-wav;base64,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\" type=\"audio/x-wav\" />\n",
              "                    Your browser does not support the audio element.\n",
              "                </audio>\n",
              "              "
            ]
          },
          "metadata": {}
        }
      ]
    },
    {
      "cell_type": "markdown",
      "source": [
        "STT"
      ],
      "metadata": {
        "id": "8KdH4o5cz1bu"
      }
    },
    {
      "cell_type": "code",
      "source": [
        "import whisper\n",
        "\n",
        "model = whisper.load_model(\"base\")\n",
        "result = model.transcribe(\"output.mp3\")\n",
        "print(result[\"text\"])"
      ],
      "metadata": {
        "colab": {
          "base_uri": "https://localhost:8080/"
        },
        "id": "GX3WLc_zzyMO",
        "outputId": "6e5469fb-043f-46e0-d74a-40a0b845050d"
      },
      "execution_count": null,
      "outputs": [
        {
          "output_type": "stream",
          "name": "stderr",
          "text": [
            "/usr/local/lib/python3.10/dist-packages/whisper/transcribe.py:115: UserWarning: FP16 is not supported on CPU; using FP32 instead\n",
            "  warnings.warn(\"FP16 is not supported on CPU; using FP32 instead\")\n"
          ]
        },
        {
          "output_type": "stream",
          "name": "stdout",
          "text": [
            " Hello, how can I help you today?\n"
          ]
        }
      ]
    },
    {
      "cell_type": "code",
      "source": [],
      "metadata": {
        "id": "vxRNGGbk0TYN"
      },
      "execution_count": null,
      "outputs": []
    }
  ]
}